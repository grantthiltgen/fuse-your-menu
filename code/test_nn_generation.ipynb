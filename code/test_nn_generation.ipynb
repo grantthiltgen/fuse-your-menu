{
 "cells": [
  {
   "cell_type": "code",
   "execution_count": 2,
   "metadata": {},
   "outputs": [
    {
     "name": "stderr",
     "output_type": "stream",
     "text": [
      "Using TensorFlow backend.\n"
     ]
    }
   ],
   "source": [
    "from textgenrnn import textgenrnn"
   ]
  },
  {
   "cell_type": "code",
   "execution_count": 7,
   "metadata": {},
   "outputs": [
    {
     "name": "stdout",
     "output_type": "stream",
     "text": [
      "American_Indian_weights.hdf5\n",
      "Indian_American_weights.hdf5\n"
     ]
    }
   ],
   "source": [
    "cuisine1 = 'American'\n",
    "cuisine2 = 'Indian'\n",
    "try: \n",
    "    filename = cuisine1 + '_' + cuisine2 + '_weights.hdf5'\n",
    "    textgen = textgenrnn('app/models/' + filename)\n",
    "except:\n",
    "    try:\n",
    "        filename = cuisine2 + '_' + cuisine1 + '_weights.hdf5'\n",
    "        textgen = textgenrnn('app/models/' + filename) \n",
    "    except:\n",
    "        print(\"Sorry, these cuisine types aren't quite ready yet...\")"
   ]
  },
  {
   "cell_type": "code",
   "execution_count": 18,
   "metadata": {},
   "outputs": [],
   "source": [
    "def generate_food():\n",
    "    while True:\n",
    "        yield textgen.generate()"
   ]
  },
  {
   "cell_type": "code",
   "execution_count": 19,
   "metadata": {},
   "outputs": [
    {
     "name": "stdout",
     "output_type": "stream",
     "text": [
      "steamed vegetable salad\n",
      "\n"
     ]
    }
   ],
   "source": [
    "foodgen = generate_food()\n",
    "next(foodgen)"
   ]
  },
  {
   "cell_type": "code",
   "execution_count": 27,
   "metadata": {},
   "outputs": [
    {
     "name": "stdout",
     "output_type": "stream",
     "text": [
      "baked ziti swiss cheese bhaji\n",
      "\n"
     ]
    }
   ],
   "source": [
    "next(foodgen)"
   ]
  },
  {
   "cell_type": "code",
   "execution_count": 28,
   "metadata": {},
   "outputs": [
    {
     "name": "stdout",
     "output_type": "stream",
     "text": [
      "chicken alfredo pizza pakora\n",
      "\n"
     ]
    }
   ],
   "source": [
    "text = textgen.generate()"
   ]
  },
  {
   "cell_type": "code",
   "execution_count": 30,
   "metadata": {},
   "outputs": [],
   "source": [
    "cuisine1 = 'Mexican'\n",
    "cuisine2 = 'Indian'\n",
    "try: \n",
    "    filename = cuisine1 + '_' + cuisine2 + '_weights.hdf5'\n",
    "    textgen.load('app/models/' + filename)\n",
    "except:\n",
    "    try:\n",
    "        filename = cuisine2 + '_' + cuisine1 + '_weights.hdf5'\n",
    "        textgen.load('app/models/' + filename) \n",
    "    except:\n",
    "        print(\"Sorry, these cuisine types aren't quite ready yet...\")"
   ]
  },
  {
   "cell_type": "code",
   "execution_count": null,
   "metadata": {},
   "outputs": [],
   "source": []
  }
 ],
 "metadata": {
  "kernelspec": {
   "display_name": "Python 3",
   "language": "python",
   "name": "python3"
  },
  "language_info": {
   "codemirror_mode": {
    "name": "ipython",
    "version": 3
   },
   "file_extension": ".py",
   "mimetype": "text/x-python",
   "name": "python",
   "nbconvert_exporter": "python",
   "pygments_lexer": "ipython3",
   "version": "3.6.8"
  }
 },
 "nbformat": 4,
 "nbformat_minor": 2
}
