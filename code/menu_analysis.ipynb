{
 "cells": [
  {
   "cell_type": "code",
   "execution_count": 36,
   "metadata": {},
   "outputs": [],
   "source": [
    "from pymongo import MongoClient\n",
    "import requests\n",
    "import json\n",
    "import numpy as np\n",
    "import pandas as pd\n",
    "import time\n",
    "from pprint import pprint\n",
    "import gensim\n",
    "import pyLDAvis\n",
    "from pyLDAvis import gensim as gensimvis\n",
    "import spacy\n",
    "import pickle\n",
    "import logging\n",
    "from tqdm import tqdm\n",
    "from collections import defaultdict"
   ]
  },
  {
   "cell_type": "code",
   "execution_count": 26,
   "metadata": {},
   "outputs": [],
   "source": [
    "\n",
    "# set up config to get data from mongoDB on AWS\n",
    "\n",
    "config = {\n",
    "    'host': 'xx.xx.xx.xx:27017',\n",
    "    'username': 'grant',\n",
    "    'password': 'xxx',\n",
    "    'authSource': 'menu'\n",
    "}\n",
    "\n",
    "client = MongoClient(**config)\n",
    "\n",
    "db = client.menu"
   ]
  },
  {
   "cell_type": "code",
   "execution_count": 27,
   "metadata": {},
   "outputs": [],
   "source": [
    "collection = db.restaurants"
   ]
  },
  {
   "cell_type": "code",
   "execution_count": 39,
   "metadata": {},
   "outputs": [],
   "source": [
    "cursor = collection.find({'menus' : {'$exists': True}})"
   ]
  },
  {
   "cell_type": "code",
   "execution_count": null,
   "metadata": {},
   "outputs": [],
   "source": [
    "menu_types = defaultdict(int)"
   ]
  },
  {
   "cell_type": "code",
   "execution_count": 40,
   "metadata": {},
   "outputs": [],
   "source": [
    "# Get restaurant menus, exclude Desserts and Beverages\n",
    "\n",
    "restaurants = []\n",
    "\n",
    "for record in cursor:\n",
    "    if len(record['menus']) > 10:\n",
    "        menu_items = []\n",
    "        rest_dict = json.loads(record['menus'])\n",
    "        for menu in rest_dict:\n",
    "            if menu['name'] != 'Beverages' and menu['name'] != 'Beverages ' and menu['name'] != 'Soft Drinks' \\\n",
    "                        and menu['name'] != 'Desserts' and menu['name'] != 'Desserts ':  \n",
    "                for item in (menu['items']):\n",
    "                    menu_items.append(item['name'])\n",
    "        restaurants.append([record['apiKey'], ', '.join(menu_items)])"
   ]
  },
  {
   "cell_type": "code",
   "execution_count": 41,
   "metadata": {},
   "outputs": [],
   "source": [
    "# pickle menus\n",
    "\n",
    "with open('data/menus.pickle', 'wb') as to_write:\n",
    "    pickle.dump(restaurants, to_write)"
   ]
  },
  {
   "cell_type": "code",
   "execution_count": 42,
   "metadata": {},
   "outputs": [
    {
     "data": {
      "text/plain": [
       "9676"
      ]
     },
     "execution_count": 42,
     "metadata": {},
     "output_type": "execute_result"
    }
   ],
   "source": [
    "len(restaurants)"
   ]
  },
  {
   "cell_type": "code",
   "execution_count": 43,
   "metadata": {},
   "outputs": [],
   "source": [
    "# Do LDA analysis on menus\n",
    "ng_train = pd.DataFrame(restaurants, columns=['apiKey','menu'])\n"
   ]
  },
  {
   "cell_type": "code",
   "execution_count": 44,
   "metadata": {},
   "outputs": [],
   "source": [
    "def sent_to_words(sentences):\n",
    "    for sentence in sentences:\n",
    "        yield(gensim.utils.simple_preprocess(str(sentence), deacc=True))\n",
    "        \n",
    "\n",
    "clean_sents = list(sent_to_words(ng_train.menu))"
   ]
  },
  {
   "cell_type": "code",
   "execution_count": 45,
   "metadata": {},
   "outputs": [],
   "source": [
    "bigram = gensim.models.Phrases(clean_sents, min_count=20) # higher threshold fewer phrases.\n",
    "\n",
    "trigram = gensim.models.Phrases(bigram[clean_sents], min_count=10)  \n",
    "\n",
    "# Faster way to get a sentence clubbed as a trigram/bigram\n",
    "bigram_model = gensim.models.phrases.Phraser(bigram)\n",
    "trigram_model = gensim.models.phrases.Phraser(trigram)"
   ]
  },
  {
   "cell_type": "code",
   "execution_count": 46,
   "metadata": {},
   "outputs": [
    {
     "name": "stdout",
     "output_type": "stream",
     "text": [
      "imperial vegetarian rolls chicken satay fresh spring_rolls imperial shrimp rolls summer duck rolls golden tofu fried wonton fish cake kimchi soup chicken kimchi soup tofu kimchi soup shrimp kimchi soup seafood hot sour soup chicken hot sour soup tofu hot sour soup shrimp hot sour soup seafood coconut soup chicken coconut soup tofu coconut soup shrimp coconut soup seafood honey pork siagon noodle bowl five_spice chicken siagon noodle bowl bbq short_rib siagon noodle bowl vegan delight siagon noodle bowl honey pork garlic noodles five_spice chicken garlic noodles bbq short_rib garlic noodles garlic fish with garlic noodles garlic prawn with garlic noodles soft_shell_crab with garlic noodles banana fritters with ice_cream mango with sweet sticky_rice honey pork curry five_spice chicken curry bbq short_rib curry chuchi salmon curry the green sea_bass curry chicken salad papaya salad tofu salad steak salad salmon salad crispy fish basil frog string_bean chicken string_bean tofu spicy eggplant steamed sea_bass vegan delight three buddies spicy sole fish shaking beef lava beef spicy salmon meggie tenderloin water prawn honey pork siagon rice bowl five_spice chicken siagon rice bowl bbq short_rib siagon rice bowl vegan delight siagon rice bowl seafood noodle soup beef stew noodle soup chicken noodle soup veggie noodle soup steamed rice brown rice garlic noodles steamed veggies \n",
      "\n",
      "hot wing bbq wings garlic twists bread_sticks garlic_bread jalapeno_poppers_mozzarella_sticks garlic_bread with cheese green salad small green salad large caesar salad small caesar salad large chicken caesar salad small chicken caesar salad large greek salad small greek salad large ravioli with garlic_bread spaghetti with garlic_bread lasagna with garlic_bread cheese pizza small cheese pizza medium cheese pizza large cheese pizza party cheese pizza topping small cheese pizza topping medium cheese pizza topping large cheese pizza topping party cheese pizza toppings small cheese pizza toppings medium cheese pizza toppings large cheese pizza toppings party cheese pizza toppings small cheese pizza toppings medium cheese pizza toppings large cheese pizza toppings party garlic chicken pizza small garlic chicken pizza medium garlic chicken pizza large garlic chicken pizza party pesto chicken pizza small pesto chicken pizza medium pesto chicken pizza large pesto chicken pizza party gourmet veggie pizza small gourmet veggie pizza medium gourmet veggie pizza large gourmet veggie pizza party garlic supreme pizza small garlic supreme pizza medium garlic supreme pizza large garlic supreme pizza party hawaiian pizza small hawaiian pizza medium hawaiian pizza large hawaiian pizza party vegetarian pizza small vegetarian pizza medium vegetarian pizza large vegetarian pizza party combination pizza small combination pizza medium combination pizza large combination pizza party greek style pizza small greek style pizza medium greek style pizza large greek style pizza party all_meat pizza small all_meat pizza medium all_meat pizza large all_meat pizza party bbq chicken pizza small bbq chicken pizza medium bbq chicken pizza large bbq chicken pizza party town special pizza small town special pizza medium town special pizza large town special pizza party medium calzone large calzone chicken sandwich bbq sandwich ham sandwich meatballs sandwich pepperoni sandwich salami sandwich \n",
      "\n",
      "tuscan chicken panini veggie panini bbq pulled_pork panini meatball panini chipotle roast beef panini turkey brie panini chili cup chili bowl homemade soup of_the_day cup homemade soup of_the_day bowl felip famous fiesta chicken salad the abundant caesar salad cobb salad soup salad fresh pasta and vegetable salad half pint fresh pasta and vegetable salad pint salad on salad smoked_turkey stacker black_forest_ham stacker roast beef stacker tuna stacker pastami stacker abundant roast regular abundant roast abundant espresso regular espresso abundant latte regular latte abundant cafe_mocha regular cafe_mocha abundant cappuccino regular cappuccino abundant cafe_au_lait regular cafe_au_lait abundant espresso_macchiato regular espresso_macchiato abundant espresso con_panna regular espresso con_panna abundant chai_latte regular chai_latte abundant abundant tea regular abundant tea abundant abundant hot chocolate \n",
      "\n",
      "pakaura mast_khiar aush shour nakhod bodinjon borani kado borani filet of beef kabob tikkah of lamb kabob lamb_chops kabob beef tikkah kabob shammi kabob chicken kabob chapli_kabob tikka shami sultani tikka chicken sultani shammi chicken sultani chapli chicken sultani qabili palau sabzi chalau kofta chalau col karam or golpi qorma chalau morgh dale chalau chalau white rice palau brown rice palau topped carrots raisins trout specialty afghan plate do piazah cow leg stew qurma pacha ashak bolani order bolani full_order manto \n",
      "\n",
      "tray of humus people tray of humus people tray of humus people tray of humus people tray of humus people tray of humus people tray of babaganoush people tray of babaganoush people tray of babaganoush people tray of babaganoush people tray of babaganoush people tray of babaganoush people tray of tzatziki people tray of tzatziki people tray of tzatziki people tray of tzatziki people tray of tzatziki people tray of tzatziki people tray of dolma people tray of dolma people tray of dolma people tray of dolma people tray of dolma people tray of dolma people tray of falafel people tray of falafel people tray of falafel people tray of falafel people tray of falafel people tray of falafel people tray of greek salad people tray of greek salad people tray of greek salad people tray of greek salad people tray of greek salad people tray of greek salad people tray of caesar salad people tray of caesar salad people tray of caesar salad people tray of caesar salad people tray of caesar salad people tray of caesar salad people lamb beef gyro wrap people lamb beef gyro wrap people lamb beef gyro wrap people lamb beef gyro wrap people lamb beef gyro wrap people lamb beef gyro wrap people chicken souvlaki wrap people chicken souvlaki wrap people chicken souvlaki wrap people chicken souvlaki wrap people chicken souvlaki wrap people chicken souvlaki wrap people adana wrap people adana wrap people adana wrap people adana wrap people adana wrap people adana wrap people falafel wrap people falafel wrap people falafel wrap people falafel wrap people falafel wrap people falafel wrap people veggie wrap people veggie wrap people veggie wrap people veggie wrap people veggie wrap people veggie wrap people tray of lamb beef gyro people tray of lamb beef gyro people tray of lamb beef gyro people tray of lamb beef gyro people tray of lamb beef gyro people tray of lamb beef gyro people tray of chicken souvlaki people tray of chicken souvlaki people tray of chicken souvlaki people tray of chicken souvlaki people tray of chicken souvlaki people tray of chicken souvlaki people tray of beef souvlaki people tray of beef souvlaki people tray of beef souvlaki people tray of beef souvlaki people tray of beef souvlaki people tray of beef souvlaki people tray of lamb souvlaki people tray of lamb souvlaki people tray of lamb souvlaki people tray of lamb souvlaki people tray of lamb souvlaki people tray of lamb souvlaki people tray of veggie souvlaki people tray of veggie souvlaki people tray of veggie souvlaki people tray of veggie souvlaki people tray of veggie souvlaki people tray of veggie souvlaki people tray of baklava people tray of baklava people tray of baklava people tray of baklava people tray of baklava people tray of baklava people tray of kataifi people tray of kataifi people tray of kataifi people tray of kataifi people tray of kataifi people tray of kataifi people tray of burma people tray of burma people tray of burma people tray of burma people tray of burma people tray of burma people saghanaki char grilled octopus salad watermelon salad fried calamari dolmades hummus_baba_ganoush tzatziki stuffed artichokes veggie delight falafel beets salad combo mezethes avgolemono greek salad mediterranean salad gyro iskender alexander kebab beyti chicken souvlaki lamb souvlaki beef souvlaki grilled lamb_chops char grilled turkish patties agora combo kabab meat moussaka beef manti shrimp souvlaki grilled atlantic_salmon grilled lavraki branzino okra eggplant delight falafel baklava \n",
      "\n"
     ]
    }
   ],
   "source": [
    "for s in clean_sents[0:5]:\n",
    "    print(f'{\" \".join(trigram_model[bigram_model[s]]) } \\n')"
   ]
  },
  {
   "cell_type": "code",
   "execution_count": 47,
   "metadata": {},
   "outputs": [],
   "source": [
    "clean_sents = [trigram_model[bigram_model[t]] for t in clean_sents]"
   ]
  },
  {
   "cell_type": "code",
   "execution_count": 48,
   "metadata": {
    "scrolled": true
   },
   "outputs": [
    {
     "name": "stdout",
     "output_type": "stream",
     "text": [
      "imperial vegetarian rolls chicken satay fresh spring_rolls imperial shrimp rolls summer duck rolls golden tofu fried wonton fish cake kimchi soup chicken kimchi soup tofu kimchi soup shrimp kimchi soup seafood hot sour soup chicken hot sour soup tofu hot sour soup shrimp hot sour soup seafood coconut soup chicken coconut soup tofu coconut soup shrimp coconut soup seafood honey pork siagon noodle bowl five_spice chicken siagon noodle bowl bbq short_rib siagon noodle bowl vegan delight siagon noodle bowl honey pork garlic noodles five_spice chicken garlic noodles bbq short_rib garlic noodles garlic fish with garlic noodles garlic prawn with garlic noodles soft_shell_crab with garlic noodles banana fritters with ice_cream mango with sweet sticky_rice honey pork curry five_spice chicken curry bbq short_rib curry chuchi salmon curry the green sea_bass curry chicken salad papaya salad tofu salad steak salad salmon salad crispy fish basil frog string_bean chicken string_bean tofu spicy eggplant steamed sea_bass vegan delight three buddies spicy sole fish shaking beef lava beef spicy salmon meggie tenderloin water prawn honey pork siagon rice bowl five_spice chicken siagon rice bowl bbq short_rib siagon rice bowl vegan delight siagon rice bowl seafood noodle soup beef stew noodle soup chicken noodle soup veggie noodle soup steamed rice brown rice garlic noodles steamed veggies \n",
      "\n",
      "hot wing bbq wings garlic twists bread_sticks garlic_bread jalapeno_poppers_mozzarella_sticks garlic_bread with cheese green salad small green salad large caesar salad small caesar salad large chicken caesar salad small chicken caesar salad large greek salad small greek salad large ravioli with garlic_bread spaghetti with garlic_bread lasagna with garlic_bread cheese pizza small cheese pizza medium cheese pizza large cheese pizza party cheese pizza topping small cheese pizza topping medium cheese pizza topping large cheese pizza topping party cheese pizza toppings small cheese pizza toppings medium cheese pizza toppings large cheese pizza toppings party cheese pizza toppings small cheese pizza toppings medium cheese pizza toppings large cheese pizza toppings party garlic chicken pizza small garlic chicken pizza medium garlic chicken pizza large garlic chicken pizza party pesto chicken pizza small pesto chicken pizza medium pesto chicken pizza large pesto chicken pizza party gourmet veggie pizza small gourmet veggie pizza medium gourmet veggie pizza large gourmet veggie pizza party garlic supreme pizza small garlic supreme pizza medium garlic supreme pizza large garlic supreme pizza party hawaiian pizza small hawaiian pizza medium hawaiian pizza large hawaiian pizza party vegetarian pizza small vegetarian pizza medium vegetarian pizza large vegetarian pizza party combination pizza small combination pizza medium combination pizza large combination pizza party greek style pizza small greek style pizza medium greek style pizza large greek style pizza party all_meat pizza small all_meat pizza medium all_meat pizza large all_meat pizza party bbq chicken pizza small bbq chicken pizza medium bbq chicken pizza large bbq chicken pizza party town special pizza small town special pizza medium town special pizza large town special pizza party medium calzone large calzone chicken sandwich bbq sandwich ham sandwich meatballs sandwich pepperoni sandwich salami sandwich \n",
      "\n",
      "tuscan chicken panini veggie panini bbq pulled_pork panini meatball panini chipotle roast beef panini turkey brie panini chili cup chili bowl homemade soup of_the_day cup homemade soup of_the_day bowl felip famous fiesta chicken salad the abundant caesar salad cobb salad soup salad fresh pasta and vegetable salad half pint fresh pasta and vegetable salad pint salad on salad smoked_turkey stacker black_forest_ham stacker roast beef stacker tuna stacker pastami stacker abundant roast regular abundant roast abundant espresso regular espresso abundant latte regular latte abundant cafe_mocha regular cafe_mocha abundant cappuccino regular cappuccino abundant cafe_au_lait regular cafe_au_lait abundant espresso_macchiato regular espresso_macchiato abundant espresso con_panna regular espresso con_panna abundant chai_latte regular chai_latte abundant abundant tea regular abundant tea abundant abundant hot chocolate \n",
      "\n",
      "pakaura mast_khiar aush shour nakhod bodinjon borani kado borani filet of beef kabob tikkah of lamb kabob lamb_chops kabob beef tikkah kabob shammi kabob chicken kabob chapli_kabob tikka shami sultani tikka chicken sultani shammi chicken sultani chapli chicken sultani qabili palau sabzi chalau kofta chalau col karam or golpi qorma chalau morgh dale chalau chalau white rice palau brown rice palau topped carrots raisins trout specialty afghan plate do piazah cow leg stew qurma pacha ashak bolani order bolani full_order manto \n",
      "\n",
      "tray of humus people tray of humus people tray of humus people tray of humus people tray of humus people tray of humus people tray of babaganoush people tray of babaganoush people tray of babaganoush people tray of babaganoush people tray of babaganoush people tray of babaganoush people tray of tzatziki people tray of tzatziki people tray of tzatziki people tray of tzatziki people tray of tzatziki people tray of tzatziki people tray of dolma people tray of dolma people tray of dolma people tray of dolma people tray of dolma people tray of dolma people tray of falafel people tray of falafel people tray of falafel people tray of falafel people tray of falafel people tray of falafel people tray of greek salad people tray of greek salad people tray of greek salad people tray of greek salad people tray of greek salad people tray of greek salad people tray of caesar salad people tray of caesar salad people tray of caesar salad people tray of caesar salad people tray of caesar salad people tray of caesar salad people lamb beef gyro wrap people lamb beef gyro wrap people lamb beef gyro wrap people lamb beef gyro wrap people lamb beef gyro wrap people lamb beef gyro wrap people chicken souvlaki wrap people chicken souvlaki wrap people chicken souvlaki wrap people chicken souvlaki wrap people chicken souvlaki wrap people chicken souvlaki wrap people adana wrap people adana wrap people adana wrap people adana wrap people adana wrap people adana wrap people falafel wrap people falafel wrap people falafel wrap people falafel wrap people falafel wrap people falafel wrap people veggie wrap people veggie wrap people veggie wrap people veggie wrap people veggie wrap people veggie wrap people tray of lamb beef gyro people tray of lamb beef gyro people tray of lamb beef gyro people tray of lamb beef gyro people tray of lamb beef gyro people tray of lamb beef gyro people tray of chicken souvlaki people tray of chicken souvlaki people tray of chicken souvlaki people tray of chicken souvlaki people tray of chicken souvlaki people tray of chicken souvlaki people tray of beef souvlaki people tray of beef souvlaki people tray of beef souvlaki people tray of beef souvlaki people tray of beef souvlaki people tray of beef souvlaki people tray of lamb souvlaki people tray of lamb souvlaki people tray of lamb souvlaki people tray of lamb souvlaki people tray of lamb souvlaki people tray of lamb souvlaki people tray of veggie souvlaki people tray of veggie souvlaki people tray of veggie souvlaki people tray of veggie souvlaki people tray of veggie souvlaki people tray of veggie souvlaki people tray of baklava people tray of baklava people tray of baklava people tray of baklava people tray of baklava people tray of baklava people tray of kataifi people tray of kataifi people tray of kataifi people tray of kataifi people tray of kataifi people tray of kataifi people tray of burma people tray of burma people tray of burma people tray of burma people tray of burma people tray of burma people saghanaki char grilled octopus salad watermelon salad fried calamari dolmades hummus_baba_ganoush tzatziki stuffed artichokes veggie delight falafel beets salad combo mezethes avgolemono greek salad mediterranean salad gyro iskender alexander kebab beyti chicken souvlaki lamb souvlaki beef souvlaki grilled lamb_chops char grilled turkish patties agora combo kabab meat moussaka beef manti shrimp souvlaki grilled atlantic_salmon grilled lavraki branzino okra eggplant delight falafel baklava \n",
      "\n"
     ]
    }
   ],
   "source": [
    "for t in clean_sents[:5]:\n",
    "    print(f'{\" \".join(t)} \\n')"
   ]
  },
  {
   "cell_type": "code",
   "execution_count": 49,
   "metadata": {},
   "outputs": [],
   "source": [
    "# get stop words, including my own stop words for things like tray, etc.\n",
    "nlp = spacy.load('en', disable=['parser', 'ner'])\n",
    "with open('data/menu_stop_words.txt') as f:\n",
    "    menu_stop_words = f.readlines()\n",
    "menu_stop_words = {s.strip() for s in menu_stop_words}"
   ]
  },
  {
   "cell_type": "code",
   "execution_count": 50,
   "metadata": {},
   "outputs": [],
   "source": [
    "nlp.Defaults.stop_words |= menu_stop_words"
   ]
  },
  {
   "cell_type": "code",
   "execution_count": 51,
   "metadata": {},
   "outputs": [],
   "source": [
    "\n",
    "\n",
    "# NOUN, ADJ, VERB, ADV\n",
    "def lemmatization(texts, allowed_postags=['NOUN', 'ADJ', 'VERB', 'ADV']):\n",
    "    texts_out = []\n",
    "    for sent in texts:\n",
    "        doc = nlp(\" \".join(sent)) \n",
    "        \n",
    "        output_text = [token.lemma_ for token in doc if token.pos_ in allowed_postags and\n",
    "                       str(token) not in menu_stop_words and token.is_stop == False]\n",
    "        \n",
    "        if len(output_text) > 0:\n",
    "            texts_out.append(output_text)\n",
    "    return texts_out"
   ]
  },
  {
   "cell_type": "code",
   "execution_count": 52,
   "metadata": {},
   "outputs": [],
   "source": [
    "clean_sents = lemmatization(clean_sents)"
   ]
  },
  {
   "cell_type": "code",
   "execution_count": 53,
   "metadata": {},
   "outputs": [],
   "source": [
    "id2word = gensim.corpora.Dictionary(clean_sents)\n",
    "\n",
    "corpus = [id2word.doc2bow(t) for t in clean_sents]"
   ]
  },
  {
   "cell_type": "code",
   "execution_count": 54,
   "metadata": {},
   "outputs": [],
   "source": [
    "test = lemmatization([['large', 'green', 'medium', 'apple', 'pear', 'laugh', 'entree', 'cater']])"
   ]
  },
  {
   "cell_type": "code",
   "execution_count": 55,
   "metadata": {},
   "outputs": [
    {
     "data": {
      "text/plain": [
       "[['green', 'apple', 'pear', 'laugh']]"
      ]
     },
     "execution_count": 55,
     "metadata": {},
     "output_type": "execute_result"
    }
   ],
   "source": [
    "test"
   ]
  },
  {
   "cell_type": "code",
   "execution_count": 56,
   "metadata": {
    "scrolled": true
   },
   "outputs": [
    {
     "data": {
      "text/plain": [
       "[('banana', 1),\n",
       " ('basil', 1),\n",
       " ('bbq', 4),\n",
       " ('beef', 3),\n",
       " ('brown', 1),\n",
       " ('buddy', 1),\n",
       " ('cake', 1),\n",
       " ('chicken', 11),\n",
       " ('chuchi', 1),\n",
       " ('coconut', 4),\n",
       " ('crispy', 1),\n",
       " ('curry', 5),\n",
       " ('delight', 3),\n",
       " ('duck', 1),\n",
       " ('eggplant', 1),\n",
       " ('fish', 4),\n",
       " ('five_spice', 4),\n",
       " ('fresh', 1),\n",
       " ('fritter', 1),\n",
       " ('frog', 1),\n",
       " ('fry', 1),\n",
       " ('garlic', 9),\n",
       " ('golden', 1),\n",
       " ('green', 1),\n",
       " ('honey', 4),\n",
       " ('ice_cream', 1),\n",
       " ('imperial', 2),\n",
       " ('kimchi', 4),\n",
       " ('lava', 1),\n",
       " ('mango', 1),\n",
       " ('meggie', 1),\n",
       " ('noodle', 15),\n",
       " ('papaya', 1),\n",
       " ('pork', 4),\n",
       " ('prawn', 2),\n",
       " ('rice', 6),\n",
       " ('roll', 3),\n",
       " ('salad', 5),\n",
       " ('salmon', 3),\n",
       " ('satay', 1),\n",
       " ('sea_bass', 2),\n",
       " ('seafood', 4),\n",
       " ('shake', 1),\n",
       " ('short_rib', 4),\n",
       " ('shrimp', 4),\n",
       " ('siagon', 8),\n",
       " ('soft_shell_crab', 1),\n",
       " ('sole', 1),\n",
       " ('soup', 16),\n",
       " ('sour', 4),\n",
       " ('spicy', 3),\n",
       " ('spring_roll', 1),\n",
       " ('steak', 1),\n",
       " ('steam', 2),\n",
       " ('steamed', 1),\n",
       " ('stew', 1),\n",
       " ('sticky_rice', 1),\n",
       " ('string_bean', 2),\n",
       " ('summer', 1),\n",
       " ('sweet', 1),\n",
       " ('tenderloin', 1),\n",
       " ('tofu', 6),\n",
       " ('vegan', 3),\n",
       " ('vegetarian', 1),\n",
       " ('veggie', 2),\n",
       " ('water', 1),\n",
       " ('wonton', 1)]"
      ]
     },
     "execution_count": 56,
     "metadata": {},
     "output_type": "execute_result"
    }
   ],
   "source": [
    "[(id2word[id], freq) for id, freq in corpus[0]]"
   ]
  },
  {
   "cell_type": "code",
   "execution_count": 57,
   "metadata": {
    "scrolled": false
   },
   "outputs": [],
   "source": [
    "# Run analysis for multiple topics\n",
    "\n",
    "for i in range(8,16):\n",
    "    filen = 'lda_model' + str(i) + '.log'\n",
    "    logging.basicConfig(filename=filen, format='%(asctime)s : %(levelname)s : %(message)s', level=logging.INFO)\n",
    "    lda_model = gensim.models.ldamulticore.LdaMulticore(corpus=corpus,\n",
    "                                           id2word=id2word,\n",
    "                                           num_topics=i, \n",
    "                                           random_state=100,\n",
    "                                           chunksize=100,\n",
    "                                           passes=128,\n",
    "                                           per_word_topics=True)\n",
    "    pyLDAvis.enable_notebook()\n",
    "    vis = gensimvis.prepare(lda_model, corpus, id2word)\n",
    "    html = 'lda_new_stop_' + str(i) + '.html'\n",
    "    pyLDAvis.save_html(vis, html)\n"
   ]
  },
  {
   "cell_type": "code",
   "execution_count": 29,
   "metadata": {},
   "outputs": [
    {
     "name": "stdout",
     "output_type": "stream",
     "text": [
      "[(9, 0.91819555), (6, 0.07777809)]\n"
     ]
    }
   ],
   "source": [
    "top_topics = lda_model.get_document_topics(corpus[0])\n",
    "top_topics.sort(key=lambda x: x[1], reverse=True)\n",
    "\n",
    "print(top_topics)"
   ]
  },
  {
   "cell_type": "code",
   "execution_count": 30,
   "metadata": {},
   "outputs": [],
   "source": [
    "\n",
    "pyLDAvis.enable_notebook()\n",
    "vis = gensimvis.prepare(lda_model, corpus, id2word)\n",
    "pyLDAvis.save_html(vis, 'lda-12.html')"
   ]
  },
  {
   "cell_type": "code",
   "execution_count": null,
   "metadata": {},
   "outputs": [],
   "source": []
  }
 ],
 "metadata": {
  "kernelspec": {
   "display_name": "Python 3",
   "language": "python",
   "name": "python3"
  },
  "language_info": {
   "codemirror_mode": {
    "name": "ipython",
    "version": 3
   },
   "file_extension": ".py",
   "mimetype": "text/x-python",
   "name": "python",
   "nbconvert_exporter": "python",
   "pygments_lexer": "ipython3",
   "version": "3.7.1"
  }
 },
 "nbformat": 4,
 "nbformat_minor": 2
}
